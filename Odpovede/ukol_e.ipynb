{
 "cells": [
  {
   "cell_type": "code",
   "execution_count": 6,
   "metadata": {},
   "outputs": [
    {
     "name": "stdout",
     "output_type": "stream",
     "text": [
      "clinical_gravidity  0.0  1.0\n",
      "sex                         \n",
      "--                    3    1\n",
      "XX                  187  202\n",
      "XY                  214  220\n",
      "Chi-square value: 1.225484795955027\n",
      "P-value: 0.5418628260857106\n",
      "Neexistuje žiadna významná súvislosť medzi pohlavím a klinickým úspechom tehotenstva.\n"
     ]
    }
   ],
   "source": [
    "import pandas as pd\n",
    "from scipy.stats import chi2_contingency\n",
    "\n",
    "\n",
    "df = pd.read_csv('transfery.csv')\n",
    "df = df.dropna(subset=['sex', 'clinical_gravidity'])\n",
    "\n",
    "\n",
    "contingency_table = pd.crosstab(df['sex'], df['clinical_gravidity'])\n",
    "\n",
    "print(contingency_table)\n",
    "\n",
    "\n",
    "chi2, p, _, _ = chi2_contingency(contingency_table)\n",
    "\n",
    "\n",
    "print(f\"Chi-square value: {chi2}\")\n",
    "print(f\"P-value: {p}\")\n",
    "\n",
    "\n",
    "alpha = 0.05\n",
    "if p < alpha:\n",
    "    print(\"Existuje žiadna významná súvislosť medzi pohlavím a klinickým úspechom tehotenstva.\")\n",
    "\n",
    "else:\n",
    "    print(\"Neexistuje žiadna významná súvislosť medzi pohlavím a klinickým úspechom tehotenstva.\")\n",
    "\n"
   ]
  }
 ],
 "metadata": {
  "kernelspec": {
   "display_name": "Python 3",
   "language": "python",
   "name": "python3"
  },
  "language_info": {
   "codemirror_mode": {
    "name": "ipython",
    "version": 3
   },
   "file_extension": ".py",
   "mimetype": "text/x-python",
   "name": "python",
   "nbconvert_exporter": "python",
   "pygments_lexer": "ipython3",
   "version": "3.9.10"
  }
 },
 "nbformat": 4,
 "nbformat_minor": 2
}
