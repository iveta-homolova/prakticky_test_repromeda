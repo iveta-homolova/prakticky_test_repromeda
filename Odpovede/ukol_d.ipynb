{
 "cells": [
  {
   "cell_type": "code",
   "execution_count": 4,
   "metadata": {},
   "outputs": [
    {
     "name": "stdout",
     "output_type": "stream",
     "text": [
      "PGT-A           697\n",
      "Karyomapping     66\n",
      "VeriSeq          41\n",
      "OneGene          20\n",
      "PGT-SR           15\n",
      "NICS              7\n",
      "Acgh              3\n",
      "DNAseq            1\n",
      "Name: genetic_method, dtype: int64\n"
     ]
    }
   ],
   "source": [
    "import pandas as pd\n",
    "\n",
    "\n",
    "df = pd.read_csv('transfery.csv')\n",
    "\n",
    "\n",
    "method_counts = df['genetic_method'].value_counts()\n",
    "\n",
    "print(method_counts)\n"
   ]
  }
 ],
 "metadata": {
  "kernelspec": {
   "display_name": "Python 3",
   "language": "python",
   "name": "python3"
  },
  "language_info": {
   "codemirror_mode": {
    "name": "ipython",
    "version": 3
   },
   "file_extension": ".py",
   "mimetype": "text/x-python",
   "name": "python",
   "nbconvert_exporter": "python",
   "pygments_lexer": "ipython3",
   "version": "3.9.10"
  }
 },
 "nbformat": 4,
 "nbformat_minor": 2
}
