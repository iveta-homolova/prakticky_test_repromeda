{
 "cells": [
  {
   "cell_type": "code",
   "execution_count": null,
   "metadata": {},
   "outputs": [],
   "source": [
    "import pandas as pn"
   ]
  },
  {
   "cell_type": "code",
   "execution_count": null,
   "metadata": {},
   "outputs": [],
   "source": [
    "column_names = [\"vek_mother\", \"vek_embryo\", \"genetic_method\", \"f_donor\", \"examined_genes\", \"sex\", \"clinical_gravidity\"]"
   ]
  },
  {
   "cell_type": "code",
   "execution_count": null,
   "metadata": {},
   "outputs": [],
   "source": [
    "data = pn.read_csv(\"transfery.csv\", header = 10, names = column_names, low_memory=False)"
   ]
  },
  {
   "cell_type": "code",
   "execution_count": null,
   "metadata": {},
   "outputs": [],
   "source": [
    "data  = data.drop(['vek_embryo', 'genetic_method', 'f_donor','examined_genes', 'sex'], axis = 'columns')"
   ]
  },
  {
   "cell_type": "code",
   "execution_count": null,
   "metadata": {},
   "outputs": [],
   "source": [
    "table = pn.pivot_table(data, values='clinical_gravidity', index=['vek_mother'],\n",
    "                       columns=['clinical_gravidity'], aggfunc=\"count\")"
   ]
  },
  {
   "cell_type": "code",
   "execution_count": null,
   "metadata": {},
   "outputs": [],
   "source": [
    "table"
   ]
  },
  {
   "cell_type": "code",
   "execution_count": null,
   "metadata": {},
   "outputs": [],
   "source": [
    "data['vek_mother']= data['vek_mother'].astype(str).astype(int)\n",
    "data['clinical_gravidity']= data['clinical_gravidity'].astype(str).astype(int)"
   ]
  },
  {
   "cell_type": "code",
   "execution_count": null,
   "metadata": {},
   "outputs": [],
   "source": [
    "data['do 29']= data[(data['vek_mother']<=29) & (data['clinical_gravidity']==1)]).value_counts() *100 / len(data[(data['vek_mother']<=29)]) \n",
    "data['30-34']=[(data['vek_mother'].between(30, 34)) & (data['clinical_gravidity']==1)]).value_counts() *100 / len(data[(data['vek_mother'].between(30, 34))]) \n",
    "data['35-39']=[(data['vek_mother'].between(35, 39)) & (data['clinical_gravidity']==1)]).value_counts() *100 / len(data[(data['vek_mother'].between(35, 39))]) \n",
    "data['40 a vyse']=[(data['vek_mother']>=40) & (data['clinical_gravidity']==1)]).value_counts() *100 / len(data[(data['vek_mother']>=40)]) "
   ]
  }
 ],
 "metadata": {
  "language_info": {
   "name": "python"
  }
 },
 "nbformat": 4,
 "nbformat_minor": 2
}
