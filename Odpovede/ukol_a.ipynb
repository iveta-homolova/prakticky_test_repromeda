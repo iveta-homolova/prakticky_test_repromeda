{
 "cells": [
  {
   "cell_type": "code",
   "execution_count": 3,
   "metadata": {},
   "outputs": [
    {
     "name": "stdout",
     "output_type": "stream",
     "text": [
      "Age_Category\n",
      "<29      54.819277\n",
      "30-34    51.810585\n",
      "35-39    47.962382\n",
      ">=40     44.516129\n",
      "Name: clinical_gravidity, dtype: float64\n"
     ]
    }
   ],
   "source": [
    "import pandas as pd\n",
    "\n",
    "\n",
    "df = pd.read_csv(\"transfery.csv\")\n",
    "\n",
    "df['vek_mother'] = pd.to_numeric(df['vek_mother'], errors='coerce')\n",
    "\n",
    "\n",
    "df['Age_Category'] = pd.cut(df['vek_mother'], bins=[-float('inf'), 29, 34, 39, float('inf')],\n",
    "                            labels=['<29', '30-34', '35-39', '>=40'])\n",
    "\n",
    "\n",
    "filtered_df = df.dropna(subset=['clinical_gravidity'])\n",
    "\n",
    "\n",
    "result_df = filtered_df.groupby('Age_Category')['clinical_gravidity'].mean() * 100\n",
    "\n",
    "print(result_df)"
   ]
  }
 ],
 "metadata": {
  "kernelspec": {
   "display_name": "Python 3",
   "language": "python",
   "name": "python3"
  },
  "language_info": {
   "codemirror_mode": {
    "name": "ipython",
    "version": 3
   },
   "file_extension": ".py",
   "mimetype": "text/x-python",
   "name": "python",
   "nbconvert_exporter": "python",
   "pygments_lexer": "ipython3",
   "version": "3.9.10"
  }
 },
 "nbformat": 4,
 "nbformat_minor": 2
}
